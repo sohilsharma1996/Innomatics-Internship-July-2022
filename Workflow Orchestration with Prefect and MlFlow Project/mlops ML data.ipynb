{
 "cells": [
  {
   "cell_type": "code",
   "execution_count": 40,
   "id": "e7c99d52",
   "metadata": {},
   "outputs": [],
   "source": [
    "import pandas as pd \n",
    "import numpy as np\n",
    "import matplotlib.pyplot as plt\n",
    "import seaborn as sns\n",
    "import warnings \n",
    "warnings.filterwarnings('ignore')\n",
    "\n",
    "from sklearn.model_selection import train_test_split\n",
    "from sklearn.preprocessing import OrdinalEncoder\n",
    "from sklearn.preprocessing import StandardScaler"
   ]
  },
  {
   "cell_type": "code",
   "execution_count": 41,
   "id": "a900063f",
   "metadata": {},
   "outputs": [],
   "source": [
    "dia = pd.read_csv(\"C:/Users/GNANA SAI A S/Downloads/MLops project/data/diamonds.csv\")"
   ]
  },
  {
   "cell_type": "code",
   "execution_count": 42,
   "id": "b70eaa27",
   "metadata": {},
   "outputs": [
    {
     "data": {
      "text/html": [
       "<div>\n",
       "<style scoped>\n",
       "    .dataframe tbody tr th:only-of-type {\n",
       "        vertical-align: middle;\n",
       "    }\n",
       "\n",
       "    .dataframe tbody tr th {\n",
       "        vertical-align: top;\n",
       "    }\n",
       "\n",
       "    .dataframe thead th {\n",
       "        text-align: right;\n",
       "    }\n",
       "</style>\n",
       "<table border=\"1\" class=\"dataframe\">\n",
       "  <thead>\n",
       "    <tr style=\"text-align: right;\">\n",
       "      <th></th>\n",
       "      <th>carat</th>\n",
       "      <th>cut</th>\n",
       "      <th>color</th>\n",
       "      <th>clarity</th>\n",
       "      <th>depth</th>\n",
       "      <th>table</th>\n",
       "      <th>price</th>\n",
       "      <th>x</th>\n",
       "      <th>y</th>\n",
       "      <th>z</th>\n",
       "    </tr>\n",
       "  </thead>\n",
       "  <tbody>\n",
       "    <tr>\n",
       "      <th>0</th>\n",
       "      <td>0.23</td>\n",
       "      <td>Ideal</td>\n",
       "      <td>E</td>\n",
       "      <td>SI2</td>\n",
       "      <td>61.5</td>\n",
       "      <td>55.0</td>\n",
       "      <td>326</td>\n",
       "      <td>3.95</td>\n",
       "      <td>3.98</td>\n",
       "      <td>2.43</td>\n",
       "    </tr>\n",
       "    <tr>\n",
       "      <th>1</th>\n",
       "      <td>0.21</td>\n",
       "      <td>Premium</td>\n",
       "      <td>E</td>\n",
       "      <td>SI1</td>\n",
       "      <td>59.8</td>\n",
       "      <td>61.0</td>\n",
       "      <td>326</td>\n",
       "      <td>3.89</td>\n",
       "      <td>3.84</td>\n",
       "      <td>2.31</td>\n",
       "    </tr>\n",
       "    <tr>\n",
       "      <th>2</th>\n",
       "      <td>0.23</td>\n",
       "      <td>Good</td>\n",
       "      <td>E</td>\n",
       "      <td>VS1</td>\n",
       "      <td>56.9</td>\n",
       "      <td>65.0</td>\n",
       "      <td>327</td>\n",
       "      <td>4.05</td>\n",
       "      <td>4.07</td>\n",
       "      <td>2.31</td>\n",
       "    </tr>\n",
       "    <tr>\n",
       "      <th>3</th>\n",
       "      <td>0.29</td>\n",
       "      <td>Premium</td>\n",
       "      <td>I</td>\n",
       "      <td>VS2</td>\n",
       "      <td>62.4</td>\n",
       "      <td>58.0</td>\n",
       "      <td>334</td>\n",
       "      <td>4.20</td>\n",
       "      <td>4.23</td>\n",
       "      <td>2.63</td>\n",
       "    </tr>\n",
       "    <tr>\n",
       "      <th>4</th>\n",
       "      <td>0.31</td>\n",
       "      <td>Good</td>\n",
       "      <td>J</td>\n",
       "      <td>SI2</td>\n",
       "      <td>63.3</td>\n",
       "      <td>58.0</td>\n",
       "      <td>335</td>\n",
       "      <td>4.34</td>\n",
       "      <td>4.35</td>\n",
       "      <td>2.75</td>\n",
       "    </tr>\n",
       "  </tbody>\n",
       "</table>\n",
       "</div>"
      ],
      "text/plain": [
       "   carat      cut color clarity  depth  table  price     x     y     z\n",
       "0   0.23    Ideal     E     SI2   61.5   55.0    326  3.95  3.98  2.43\n",
       "1   0.21  Premium     E     SI1   59.8   61.0    326  3.89  3.84  2.31\n",
       "2   0.23     Good     E     VS1   56.9   65.0    327  4.05  4.07  2.31\n",
       "3   0.29  Premium     I     VS2   62.4   58.0    334  4.20  4.23  2.63\n",
       "4   0.31     Good     J     SI2   63.3   58.0    335  4.34  4.35  2.75"
      ]
     },
     "execution_count": 42,
     "metadata": {},
     "output_type": "execute_result"
    }
   ],
   "source": [
    "dia.head()"
   ]
  },
  {
   "cell_type": "code",
   "execution_count": 43,
   "id": "7afe697b",
   "metadata": {},
   "outputs": [
    {
     "data": {
      "text/plain": [
       "(53940, 10)"
      ]
     },
     "execution_count": 43,
     "metadata": {},
     "output_type": "execute_result"
    }
   ],
   "source": [
    "dia.shape"
   ]
  },
  {
   "cell_type": "code",
   "execution_count": 44,
   "id": "953ea7cf",
   "metadata": {},
   "outputs": [
    {
     "name": "stdout",
     "output_type": "stream",
     "text": [
      "<class 'pandas.core.frame.DataFrame'>\n",
      "RangeIndex: 53940 entries, 0 to 53939\n",
      "Data columns (total 10 columns):\n",
      " #   Column   Non-Null Count  Dtype  \n",
      "---  ------   --------------  -----  \n",
      " 0   carat    53940 non-null  float64\n",
      " 1   cut      53940 non-null  object \n",
      " 2   color    53940 non-null  object \n",
      " 3   clarity  53940 non-null  object \n",
      " 4   depth    53940 non-null  float64\n",
      " 5   table    53940 non-null  float64\n",
      " 6   price    53940 non-null  int64  \n",
      " 7   x        53940 non-null  float64\n",
      " 8   y        53940 non-null  float64\n",
      " 9   z        53940 non-null  float64\n",
      "dtypes: float64(6), int64(1), object(3)\n",
      "memory usage: 4.1+ MB\n"
     ]
    }
   ],
   "source": [
    "dia.info()"
   ]
  },
  {
   "cell_type": "code",
   "execution_count": 45,
   "id": "827d30d0",
   "metadata": {
    "scrolled": false
   },
   "outputs": [
    {
     "data": {
      "text/html": [
       "<div>\n",
       "<style scoped>\n",
       "    .dataframe tbody tr th:only-of-type {\n",
       "        vertical-align: middle;\n",
       "    }\n",
       "\n",
       "    .dataframe tbody tr th {\n",
       "        vertical-align: top;\n",
       "    }\n",
       "\n",
       "    .dataframe thead th {\n",
       "        text-align: right;\n",
       "    }\n",
       "</style>\n",
       "<table border=\"1\" class=\"dataframe\">\n",
       "  <thead>\n",
       "    <tr style=\"text-align: right;\">\n",
       "      <th></th>\n",
       "      <th>carat</th>\n",
       "      <th>depth</th>\n",
       "      <th>table</th>\n",
       "      <th>price</th>\n",
       "      <th>x</th>\n",
       "      <th>y</th>\n",
       "      <th>z</th>\n",
       "    </tr>\n",
       "  </thead>\n",
       "  <tbody>\n",
       "    <tr>\n",
       "      <th>count</th>\n",
       "      <td>53940.000000</td>\n",
       "      <td>53940.000000</td>\n",
       "      <td>53940.000000</td>\n",
       "      <td>53940.000000</td>\n",
       "      <td>53940.000000</td>\n",
       "      <td>53940.000000</td>\n",
       "      <td>53940.000000</td>\n",
       "    </tr>\n",
       "    <tr>\n",
       "      <th>mean</th>\n",
       "      <td>0.797940</td>\n",
       "      <td>61.749405</td>\n",
       "      <td>57.457184</td>\n",
       "      <td>3932.799722</td>\n",
       "      <td>5.731157</td>\n",
       "      <td>5.734526</td>\n",
       "      <td>3.538734</td>\n",
       "    </tr>\n",
       "    <tr>\n",
       "      <th>std</th>\n",
       "      <td>0.474011</td>\n",
       "      <td>1.432621</td>\n",
       "      <td>2.234491</td>\n",
       "      <td>3989.439738</td>\n",
       "      <td>1.121761</td>\n",
       "      <td>1.142135</td>\n",
       "      <td>0.705699</td>\n",
       "    </tr>\n",
       "    <tr>\n",
       "      <th>min</th>\n",
       "      <td>0.200000</td>\n",
       "      <td>43.000000</td>\n",
       "      <td>43.000000</td>\n",
       "      <td>326.000000</td>\n",
       "      <td>0.000000</td>\n",
       "      <td>0.000000</td>\n",
       "      <td>0.000000</td>\n",
       "    </tr>\n",
       "    <tr>\n",
       "      <th>25%</th>\n",
       "      <td>0.400000</td>\n",
       "      <td>61.000000</td>\n",
       "      <td>56.000000</td>\n",
       "      <td>950.000000</td>\n",
       "      <td>4.710000</td>\n",
       "      <td>4.720000</td>\n",
       "      <td>2.910000</td>\n",
       "    </tr>\n",
       "    <tr>\n",
       "      <th>50%</th>\n",
       "      <td>0.700000</td>\n",
       "      <td>61.800000</td>\n",
       "      <td>57.000000</td>\n",
       "      <td>2401.000000</td>\n",
       "      <td>5.700000</td>\n",
       "      <td>5.710000</td>\n",
       "      <td>3.530000</td>\n",
       "    </tr>\n",
       "    <tr>\n",
       "      <th>75%</th>\n",
       "      <td>1.040000</td>\n",
       "      <td>62.500000</td>\n",
       "      <td>59.000000</td>\n",
       "      <td>5324.250000</td>\n",
       "      <td>6.540000</td>\n",
       "      <td>6.540000</td>\n",
       "      <td>4.040000</td>\n",
       "    </tr>\n",
       "    <tr>\n",
       "      <th>max</th>\n",
       "      <td>5.010000</td>\n",
       "      <td>79.000000</td>\n",
       "      <td>95.000000</td>\n",
       "      <td>18823.000000</td>\n",
       "      <td>10.740000</td>\n",
       "      <td>58.900000</td>\n",
       "      <td>31.800000</td>\n",
       "    </tr>\n",
       "  </tbody>\n",
       "</table>\n",
       "</div>"
      ],
      "text/plain": [
       "              carat         depth         table         price             x  \\\n",
       "count  53940.000000  53940.000000  53940.000000  53940.000000  53940.000000   \n",
       "mean       0.797940     61.749405     57.457184   3932.799722      5.731157   \n",
       "std        0.474011      1.432621      2.234491   3989.439738      1.121761   \n",
       "min        0.200000     43.000000     43.000000    326.000000      0.000000   \n",
       "25%        0.400000     61.000000     56.000000    950.000000      4.710000   \n",
       "50%        0.700000     61.800000     57.000000   2401.000000      5.700000   \n",
       "75%        1.040000     62.500000     59.000000   5324.250000      6.540000   \n",
       "max        5.010000     79.000000     95.000000  18823.000000     10.740000   \n",
       "\n",
       "                  y             z  \n",
       "count  53940.000000  53940.000000  \n",
       "mean       5.734526      3.538734  \n",
       "std        1.142135      0.705699  \n",
       "min        0.000000      0.000000  \n",
       "25%        4.720000      2.910000  \n",
       "50%        5.710000      3.530000  \n",
       "75%        6.540000      4.040000  \n",
       "max       58.900000     31.800000  "
      ]
     },
     "execution_count": 45,
     "metadata": {},
     "output_type": "execute_result"
    }
   ],
   "source": [
    "dia.describe()"
   ]
  },
  {
   "cell_type": "code",
   "execution_count": 46,
   "id": "20b91656",
   "metadata": {},
   "outputs": [],
   "source": [
    "# Rearranging the Columns"
   ]
  },
  {
   "cell_type": "code",
   "execution_count": 47,
   "id": "6a83d88f",
   "metadata": {},
   "outputs": [],
   "source": [
    "dia = dia [['carat','cut','color','clarity','depth','table','price','x','y','z']]"
   ]
  },
  {
   "cell_type": "code",
   "execution_count": 48,
   "id": "f2153a71",
   "metadata": {},
   "outputs": [],
   "source": [
    "y = dia['price']\n",
    "x = dia.drop(['price'],axis = 1)"
   ]
  },
  {
   "cell_type": "code",
   "execution_count": 49,
   "id": "28e5d3a3",
   "metadata": {},
   "outputs": [],
   "source": [
    "#  Train-Test_Split\n"
   ]
  },
  {
   "cell_type": "code",
   "execution_count": 50,
   "id": "b81e5b9e",
   "metadata": {},
   "outputs": [],
   "source": [
    "x_train, x_test, y_train, y_test = train_test_split(x,y, train_size = 0.75, random_state = 0)"
   ]
  },
  {
   "cell_type": "code",
   "execution_count": 51,
   "id": "a78e2633",
   "metadata": {},
   "outputs": [],
   "source": [
    "#preparing train data"
   ]
  },
  {
   "cell_type": "code",
   "execution_count": 52,
   "id": "b4135616",
   "metadata": {},
   "outputs": [
    {
     "data": {
      "text/html": [
       "<div>\n",
       "<style scoped>\n",
       "    .dataframe tbody tr th:only-of-type {\n",
       "        vertical-align: middle;\n",
       "    }\n",
       "\n",
       "    .dataframe tbody tr th {\n",
       "        vertical-align: top;\n",
       "    }\n",
       "\n",
       "    .dataframe thead th {\n",
       "        text-align: right;\n",
       "    }\n",
       "</style>\n",
       "<table border=\"1\" class=\"dataframe\">\n",
       "  <thead>\n",
       "    <tr style=\"text-align: right;\">\n",
       "      <th></th>\n",
       "      <th>cut</th>\n",
       "      <th>color</th>\n",
       "      <th>clarity</th>\n",
       "    </tr>\n",
       "  </thead>\n",
       "  <tbody>\n",
       "    <tr>\n",
       "      <th>441</th>\n",
       "      <td>Premium</td>\n",
       "      <td>H</td>\n",
       "      <td>SI2</td>\n",
       "    </tr>\n",
       "    <tr>\n",
       "      <th>50332</th>\n",
       "      <td>Very Good</td>\n",
       "      <td>D</td>\n",
       "      <td>SI1</td>\n",
       "    </tr>\n",
       "    <tr>\n",
       "      <th>35652</th>\n",
       "      <td>Ideal</td>\n",
       "      <td>G</td>\n",
       "      <td>VVS2</td>\n",
       "    </tr>\n",
       "    <tr>\n",
       "      <th>9439</th>\n",
       "      <td>Very Good</td>\n",
       "      <td>H</td>\n",
       "      <td>VS1</td>\n",
       "    </tr>\n",
       "    <tr>\n",
       "      <th>15824</th>\n",
       "      <td>Good</td>\n",
       "      <td>F</td>\n",
       "      <td>VS2</td>\n",
       "    </tr>\n",
       "  </tbody>\n",
       "</table>\n",
       "</div>"
      ],
      "text/plain": [
       "             cut color clarity\n",
       "441      Premium     H     SI2\n",
       "50332  Very Good     D     SI1\n",
       "35652      Ideal     G    VVS2\n",
       "9439   Very Good     H     VS1\n",
       "15824       Good     F     VS2"
      ]
     },
     "execution_count": 52,
     "metadata": {},
     "output_type": "execute_result"
    }
   ],
   "source": [
    "x_train_cat = x_train.select_dtypes(include=['object'])\n",
    "x_train_cat.head()"
   ]
  },
  {
   "cell_type": "code",
   "execution_count": 53,
   "id": "ff54a45f",
   "metadata": {},
   "outputs": [],
   "source": [
    "# Oridinal Encoder for categoricals\n"
   ]
  },
  {
   "cell_type": "code",
   "execution_count": 54,
   "id": "a8d26085",
   "metadata": {},
   "outputs": [],
   "source": [
    "\n",
    "enc = OrdinalEncoder()"
   ]
  },
  {
   "cell_type": "code",
   "execution_count": 55,
   "id": "04359837",
   "metadata": {},
   "outputs": [],
   "source": [
    "x_train_catg = pd.DataFrame(enc.fit_transform(x_train_cat), columns = x_train_cat.columns, index = x_train_cat.index)"
   ]
  },
  {
   "cell_type": "code",
   "execution_count": 56,
   "id": "0f07c319",
   "metadata": {},
   "outputs": [
    {
     "data": {
      "text/html": [
       "<div>\n",
       "<style scoped>\n",
       "    .dataframe tbody tr th:only-of-type {\n",
       "        vertical-align: middle;\n",
       "    }\n",
       "\n",
       "    .dataframe tbody tr th {\n",
       "        vertical-align: top;\n",
       "    }\n",
       "\n",
       "    .dataframe thead th {\n",
       "        text-align: right;\n",
       "    }\n",
       "</style>\n",
       "<table border=\"1\" class=\"dataframe\">\n",
       "  <thead>\n",
       "    <tr style=\"text-align: right;\">\n",
       "      <th></th>\n",
       "      <th>cut</th>\n",
       "      <th>color</th>\n",
       "      <th>clarity</th>\n",
       "    </tr>\n",
       "  </thead>\n",
       "  <tbody>\n",
       "    <tr>\n",
       "      <th>441</th>\n",
       "      <td>3.0</td>\n",
       "      <td>4.0</td>\n",
       "      <td>3.0</td>\n",
       "    </tr>\n",
       "    <tr>\n",
       "      <th>50332</th>\n",
       "      <td>4.0</td>\n",
       "      <td>0.0</td>\n",
       "      <td>2.0</td>\n",
       "    </tr>\n",
       "    <tr>\n",
       "      <th>35652</th>\n",
       "      <td>2.0</td>\n",
       "      <td>3.0</td>\n",
       "      <td>7.0</td>\n",
       "    </tr>\n",
       "    <tr>\n",
       "      <th>9439</th>\n",
       "      <td>4.0</td>\n",
       "      <td>4.0</td>\n",
       "      <td>4.0</td>\n",
       "    </tr>\n",
       "    <tr>\n",
       "      <th>15824</th>\n",
       "      <td>1.0</td>\n",
       "      <td>2.0</td>\n",
       "      <td>5.0</td>\n",
       "    </tr>\n",
       "  </tbody>\n",
       "</table>\n",
       "</div>"
      ],
      "text/plain": [
       "       cut  color  clarity\n",
       "441    3.0    4.0      3.0\n",
       "50332  4.0    0.0      2.0\n",
       "35652  2.0    3.0      7.0\n",
       "9439   4.0    4.0      4.0\n",
       "15824  1.0    2.0      5.0"
      ]
     },
     "execution_count": 56,
     "metadata": {},
     "output_type": "execute_result"
    }
   ],
   "source": [
    "\n",
    "\n",
    "\n",
    "x_train_catg.head()"
   ]
  },
  {
   "cell_type": "code",
   "execution_count": null,
   "id": "6eb4754c",
   "metadata": {},
   "outputs": [],
   "source": []
  },
  {
   "cell_type": "code",
   "execution_count": 57,
   "id": "859ceb52",
   "metadata": {},
   "outputs": [
    {
     "data": {
      "text/html": [
       "<div>\n",
       "<style scoped>\n",
       "    .dataframe tbody tr th:only-of-type {\n",
       "        vertical-align: middle;\n",
       "    }\n",
       "\n",
       "    .dataframe tbody tr th {\n",
       "        vertical-align: top;\n",
       "    }\n",
       "\n",
       "    .dataframe thead th {\n",
       "        text-align: right;\n",
       "    }\n",
       "</style>\n",
       "<table border=\"1\" class=\"dataframe\">\n",
       "  <thead>\n",
       "    <tr style=\"text-align: right;\">\n",
       "      <th></th>\n",
       "      <th>carat</th>\n",
       "      <th>depth</th>\n",
       "      <th>table</th>\n",
       "      <th>x</th>\n",
       "      <th>y</th>\n",
       "      <th>z</th>\n",
       "    </tr>\n",
       "  </thead>\n",
       "  <tbody>\n",
       "    <tr>\n",
       "      <th>441</th>\n",
       "      <td>0.89</td>\n",
       "      <td>60.2</td>\n",
       "      <td>59.0</td>\n",
       "      <td>6.26</td>\n",
       "      <td>6.23</td>\n",
       "      <td>3.76</td>\n",
       "    </tr>\n",
       "    <tr>\n",
       "      <th>50332</th>\n",
       "      <td>0.70</td>\n",
       "      <td>64.0</td>\n",
       "      <td>53.0</td>\n",
       "      <td>5.57</td>\n",
       "      <td>5.61</td>\n",
       "      <td>3.58</td>\n",
       "    </tr>\n",
       "    <tr>\n",
       "      <th>35652</th>\n",
       "      <td>0.31</td>\n",
       "      <td>62.7</td>\n",
       "      <td>57.0</td>\n",
       "      <td>4.33</td>\n",
       "      <td>4.31</td>\n",
       "      <td>2.71</td>\n",
       "    </tr>\n",
       "    <tr>\n",
       "      <th>9439</th>\n",
       "      <td>0.90</td>\n",
       "      <td>62.3</td>\n",
       "      <td>59.0</td>\n",
       "      <td>6.12</td>\n",
       "      <td>6.17</td>\n",
       "      <td>3.83</td>\n",
       "    </tr>\n",
       "    <tr>\n",
       "      <th>15824</th>\n",
       "      <td>1.01</td>\n",
       "      <td>60.6</td>\n",
       "      <td>62.0</td>\n",
       "      <td>6.52</td>\n",
       "      <td>6.49</td>\n",
       "      <td>3.94</td>\n",
       "    </tr>\n",
       "  </tbody>\n",
       "</table>\n",
       "</div>"
      ],
      "text/plain": [
       "       carat  depth  table     x     y     z\n",
       "441     0.89   60.2   59.0  6.26  6.23  3.76\n",
       "50332   0.70   64.0   53.0  5.57  5.61  3.58\n",
       "35652   0.31   62.7   57.0  4.33  4.31  2.71\n",
       "9439    0.90   62.3   59.0  6.12  6.17  3.83\n",
       "15824   1.01   60.6   62.0  6.52  6.49  3.94"
      ]
     },
     "execution_count": 57,
     "metadata": {},
     "output_type": "execute_result"
    }
   ],
   "source": [
    "x_train_num = x_train.select_dtypes(include=['int64','float64'])\n",
    "x_train_num.head()"
   ]
  },
  {
   "cell_type": "code",
   "execution_count": 58,
   "id": "7470a734",
   "metadata": {},
   "outputs": [],
   "source": [
    "# standard Scaler for Numerical Features"
   ]
  },
  {
   "cell_type": "code",
   "execution_count": 59,
   "id": "12df154f",
   "metadata": {},
   "outputs": [],
   "source": [
    "scaler = StandardScaler()"
   ]
  },
  {
   "cell_type": "code",
   "execution_count": 60,
   "id": "febb28fd",
   "metadata": {},
   "outputs": [],
   "source": [
    "x_train_no = pd.DataFrame(scaler.fit_transform(x_train_num),columns = x_train_num.columns, index = x_train_num.index)"
   ]
  },
  {
   "cell_type": "code",
   "execution_count": 61,
   "id": "3923cb05",
   "metadata": {},
   "outputs": [
    {
     "data": {
      "text/html": [
       "<div>\n",
       "<style scoped>\n",
       "    .dataframe tbody tr th:only-of-type {\n",
       "        vertical-align: middle;\n",
       "    }\n",
       "\n",
       "    .dataframe tbody tr th {\n",
       "        vertical-align: top;\n",
       "    }\n",
       "\n",
       "    .dataframe thead th {\n",
       "        text-align: right;\n",
       "    }\n",
       "</style>\n",
       "<table border=\"1\" class=\"dataframe\">\n",
       "  <thead>\n",
       "    <tr style=\"text-align: right;\">\n",
       "      <th></th>\n",
       "      <th>cut</th>\n",
       "      <th>color</th>\n",
       "      <th>clarity</th>\n",
       "      <th>carat</th>\n",
       "      <th>depth</th>\n",
       "      <th>table</th>\n",
       "      <th>x</th>\n",
       "      <th>y</th>\n",
       "      <th>z</th>\n",
       "    </tr>\n",
       "  </thead>\n",
       "  <tbody>\n",
       "    <tr>\n",
       "      <th>441</th>\n",
       "      <td>3.0</td>\n",
       "      <td>4.0</td>\n",
       "      <td>3.0</td>\n",
       "      <td>0.194920</td>\n",
       "      <td>-1.085697</td>\n",
       "      <td>0.694368</td>\n",
       "      <td>0.472201</td>\n",
       "      <td>0.430971</td>\n",
       "      <td>0.312528</td>\n",
       "    </tr>\n",
       "    <tr>\n",
       "      <th>50332</th>\n",
       "      <td>4.0</td>\n",
       "      <td>0.0</td>\n",
       "      <td>2.0</td>\n",
       "      <td>-0.205679</td>\n",
       "      <td>1.567623</td>\n",
       "      <td>-1.997562</td>\n",
       "      <td>-0.142482</td>\n",
       "      <td>-0.107276</td>\n",
       "      <td>0.058918</td>\n",
       "    </tr>\n",
       "    <tr>\n",
       "      <th>35652</th>\n",
       "      <td>2.0</td>\n",
       "      <td>3.0</td>\n",
       "      <td>7.0</td>\n",
       "      <td>-1.027961</td>\n",
       "      <td>0.659908</td>\n",
       "      <td>-0.202942</td>\n",
       "      <td>-1.247129</td>\n",
       "      <td>-1.235860</td>\n",
       "      <td>-1.166861</td>\n",
       "    </tr>\n",
       "    <tr>\n",
       "      <th>9439</th>\n",
       "      <td>4.0</td>\n",
       "      <td>4.0</td>\n",
       "      <td>4.0</td>\n",
       "      <td>0.216004</td>\n",
       "      <td>0.380611</td>\n",
       "      <td>0.694368</td>\n",
       "      <td>0.347483</td>\n",
       "      <td>0.378883</td>\n",
       "      <td>0.411154</td>\n",
       "    </tr>\n",
       "    <tr>\n",
       "      <th>15824</th>\n",
       "      <td>1.0</td>\n",
       "      <td>2.0</td>\n",
       "      <td>5.0</td>\n",
       "      <td>0.447930</td>\n",
       "      <td>-0.806400</td>\n",
       "      <td>2.040332</td>\n",
       "      <td>0.703821</td>\n",
       "      <td>0.656688</td>\n",
       "      <td>0.566137</td>\n",
       "    </tr>\n",
       "  </tbody>\n",
       "</table>\n",
       "</div>"
      ],
      "text/plain": [
       "       cut  color  clarity     carat     depth     table         x         y  \\\n",
       "441    3.0    4.0      3.0  0.194920 -1.085697  0.694368  0.472201  0.430971   \n",
       "50332  4.0    0.0      2.0 -0.205679  1.567623 -1.997562 -0.142482 -0.107276   \n",
       "35652  2.0    3.0      7.0 -1.027961  0.659908 -0.202942 -1.247129 -1.235860   \n",
       "9439   4.0    4.0      4.0  0.216004  0.380611  0.694368  0.347483  0.378883   \n",
       "15824  1.0    2.0      5.0  0.447930 -0.806400  2.040332  0.703821  0.656688   \n",
       "\n",
       "              z  \n",
       "441    0.312528  \n",
       "50332  0.058918  \n",
       "35652 -1.166861  \n",
       "9439   0.411154  \n",
       "15824  0.566137  "
      ]
     },
     "execution_count": 61,
     "metadata": {},
     "output_type": "execute_result"
    }
   ],
   "source": [
    "x_train_rescaled = pd.concat([x_train_catg, x_train_no], axis=1)\n",
    "x_train_rescaled.head()"
   ]
  },
  {
   "cell_type": "code",
   "execution_count": 62,
   "id": "ea71ea1c",
   "metadata": {},
   "outputs": [],
   "source": [
    "# Preparing test data"
   ]
  },
  {
   "cell_type": "code",
   "execution_count": 63,
   "id": "a43a415b",
   "metadata": {},
   "outputs": [
    {
     "data": {
      "text/html": [
       "<div>\n",
       "<style scoped>\n",
       "    .dataframe tbody tr th:only-of-type {\n",
       "        vertical-align: middle;\n",
       "    }\n",
       "\n",
       "    .dataframe tbody tr th {\n",
       "        vertical-align: top;\n",
       "    }\n",
       "\n",
       "    .dataframe thead th {\n",
       "        text-align: right;\n",
       "    }\n",
       "</style>\n",
       "<table border=\"1\" class=\"dataframe\">\n",
       "  <thead>\n",
       "    <tr style=\"text-align: right;\">\n",
       "      <th></th>\n",
       "      <th>cut</th>\n",
       "      <th>color</th>\n",
       "      <th>clarity</th>\n",
       "    </tr>\n",
       "  </thead>\n",
       "  <tbody>\n",
       "    <tr>\n",
       "      <th>10176</th>\n",
       "      <td>Ideal</td>\n",
       "      <td>H</td>\n",
       "      <td>SI2</td>\n",
       "    </tr>\n",
       "    <tr>\n",
       "      <th>16083</th>\n",
       "      <td>Ideal</td>\n",
       "      <td>H</td>\n",
       "      <td>SI1</td>\n",
       "    </tr>\n",
       "    <tr>\n",
       "      <th>13420</th>\n",
       "      <td>Premium</td>\n",
       "      <td>I</td>\n",
       "      <td>SI1</td>\n",
       "    </tr>\n",
       "    <tr>\n",
       "      <th>20407</th>\n",
       "      <td>Ideal</td>\n",
       "      <td>F</td>\n",
       "      <td>SI1</td>\n",
       "    </tr>\n",
       "    <tr>\n",
       "      <th>8909</th>\n",
       "      <td>Very Good</td>\n",
       "      <td>F</td>\n",
       "      <td>VS2</td>\n",
       "    </tr>\n",
       "  </tbody>\n",
       "</table>\n",
       "</div>"
      ],
      "text/plain": [
       "             cut color clarity\n",
       "10176      Ideal     H     SI2\n",
       "16083      Ideal     H     SI1\n",
       "13420    Premium     I     SI1\n",
       "20407      Ideal     F     SI1\n",
       "8909   Very Good     F     VS2"
      ]
     },
     "execution_count": 63,
     "metadata": {},
     "output_type": "execute_result"
    }
   ],
   "source": [
    "x_test_cat = x_test.select_dtypes(include=['object'])\n",
    "x_test_cat.head()"
   ]
  },
  {
   "cell_type": "code",
   "execution_count": 64,
   "id": "efbdec6d",
   "metadata": {},
   "outputs": [],
   "source": [
    "x_test_catg = pd.DataFrame(enc.transform(x_test_cat), columns = x_test_cat.columns, index = x_test_cat.index)"
   ]
  },
  {
   "cell_type": "code",
   "execution_count": 65,
   "id": "5ca015a1",
   "metadata": {},
   "outputs": [
    {
     "data": {
      "text/html": [
       "<div>\n",
       "<style scoped>\n",
       "    .dataframe tbody tr th:only-of-type {\n",
       "        vertical-align: middle;\n",
       "    }\n",
       "\n",
       "    .dataframe tbody tr th {\n",
       "        vertical-align: top;\n",
       "    }\n",
       "\n",
       "    .dataframe thead th {\n",
       "        text-align: right;\n",
       "    }\n",
       "</style>\n",
       "<table border=\"1\" class=\"dataframe\">\n",
       "  <thead>\n",
       "    <tr style=\"text-align: right;\">\n",
       "      <th></th>\n",
       "      <th>carat</th>\n",
       "      <th>depth</th>\n",
       "      <th>table</th>\n",
       "      <th>x</th>\n",
       "      <th>y</th>\n",
       "      <th>z</th>\n",
       "    </tr>\n",
       "  </thead>\n",
       "  <tbody>\n",
       "    <tr>\n",
       "      <th>10176</th>\n",
       "      <td>1.10</td>\n",
       "      <td>62.0</td>\n",
       "      <td>55.0</td>\n",
       "      <td>6.61</td>\n",
       "      <td>6.65</td>\n",
       "      <td>4.11</td>\n",
       "    </tr>\n",
       "    <tr>\n",
       "      <th>16083</th>\n",
       "      <td>1.29</td>\n",
       "      <td>62.6</td>\n",
       "      <td>56.0</td>\n",
       "      <td>6.96</td>\n",
       "      <td>6.93</td>\n",
       "      <td>4.35</td>\n",
       "    </tr>\n",
       "    <tr>\n",
       "      <th>13420</th>\n",
       "      <td>1.20</td>\n",
       "      <td>61.1</td>\n",
       "      <td>58.0</td>\n",
       "      <td>6.88</td>\n",
       "      <td>6.80</td>\n",
       "      <td>4.18</td>\n",
       "    </tr>\n",
       "    <tr>\n",
       "      <th>20407</th>\n",
       "      <td>1.50</td>\n",
       "      <td>60.9</td>\n",
       "      <td>56.0</td>\n",
       "      <td>7.43</td>\n",
       "      <td>7.36</td>\n",
       "      <td>4.50</td>\n",
       "    </tr>\n",
       "    <tr>\n",
       "      <th>8909</th>\n",
       "      <td>0.90</td>\n",
       "      <td>61.7</td>\n",
       "      <td>57.0</td>\n",
       "      <td>6.17</td>\n",
       "      <td>6.21</td>\n",
       "      <td>3.82</td>\n",
       "    </tr>\n",
       "  </tbody>\n",
       "</table>\n",
       "</div>"
      ],
      "text/plain": [
       "       carat  depth  table     x     y     z\n",
       "10176   1.10   62.0   55.0  6.61  6.65  4.11\n",
       "16083   1.29   62.6   56.0  6.96  6.93  4.35\n",
       "13420   1.20   61.1   58.0  6.88  6.80  4.18\n",
       "20407   1.50   60.9   56.0  7.43  7.36  4.50\n",
       "8909    0.90   61.7   57.0  6.17  6.21  3.82"
      ]
     },
     "execution_count": 65,
     "metadata": {},
     "output_type": "execute_result"
    }
   ],
   "source": [
    "x_test_num = x_test.select_dtypes(include=['int64','float64'])\n",
    "x_test_num.head()"
   ]
  },
  {
   "cell_type": "code",
   "execution_count": 66,
   "id": "fbae263b",
   "metadata": {},
   "outputs": [],
   "source": [
    "x_test_no = pd.DataFrame(scaler.transform(x_test_num),\n",
    "                        columns = x_test_num.columns, \n",
    "                        index = x_test_num.index)"
   ]
  },
  {
   "cell_type": "code",
   "execution_count": 67,
   "id": "54b28701",
   "metadata": {},
   "outputs": [
    {
     "data": {
      "text/html": [
       "<div>\n",
       "<style scoped>\n",
       "    .dataframe tbody tr th:only-of-type {\n",
       "        vertical-align: middle;\n",
       "    }\n",
       "\n",
       "    .dataframe tbody tr th {\n",
       "        vertical-align: top;\n",
       "    }\n",
       "\n",
       "    .dataframe thead th {\n",
       "        text-align: right;\n",
       "    }\n",
       "</style>\n",
       "<table border=\"1\" class=\"dataframe\">\n",
       "  <thead>\n",
       "    <tr style=\"text-align: right;\">\n",
       "      <th></th>\n",
       "      <th>carat</th>\n",
       "      <th>depth</th>\n",
       "      <th>table</th>\n",
       "      <th>x</th>\n",
       "      <th>y</th>\n",
       "      <th>z</th>\n",
       "    </tr>\n",
       "  </thead>\n",
       "  <tbody>\n",
       "    <tr>\n",
       "      <th>10176</th>\n",
       "      <td>0.637687</td>\n",
       "      <td>0.171139</td>\n",
       "      <td>-1.100252</td>\n",
       "      <td>0.783997</td>\n",
       "      <td>0.795591</td>\n",
       "      <td>0.805657</td>\n",
       "    </tr>\n",
       "    <tr>\n",
       "      <th>16083</th>\n",
       "      <td>1.038286</td>\n",
       "      <td>0.590084</td>\n",
       "      <td>-0.651597</td>\n",
       "      <td>1.095792</td>\n",
       "      <td>1.038670</td>\n",
       "      <td>1.143803</td>\n",
       "    </tr>\n",
       "    <tr>\n",
       "      <th>13420</th>\n",
       "      <td>0.848529</td>\n",
       "      <td>-0.457279</td>\n",
       "      <td>0.245713</td>\n",
       "      <td>1.024525</td>\n",
       "      <td>0.925812</td>\n",
       "      <td>0.904283</td>\n",
       "    </tr>\n",
       "    <tr>\n",
       "      <th>20407</th>\n",
       "      <td>1.481053</td>\n",
       "      <td>-0.596928</td>\n",
       "      <td>-0.651597</td>\n",
       "      <td>1.514489</td>\n",
       "      <td>1.411971</td>\n",
       "      <td>1.355144</td>\n",
       "    </tr>\n",
       "    <tr>\n",
       "      <th>8909</th>\n",
       "      <td>0.216004</td>\n",
       "      <td>-0.038334</td>\n",
       "      <td>-0.202942</td>\n",
       "      <td>0.392025</td>\n",
       "      <td>0.413609</td>\n",
       "      <td>0.397064</td>\n",
       "    </tr>\n",
       "  </tbody>\n",
       "</table>\n",
       "</div>"
      ],
      "text/plain": [
       "          carat     depth     table         x         y         z\n",
       "10176  0.637687  0.171139 -1.100252  0.783997  0.795591  0.805657\n",
       "16083  1.038286  0.590084 -0.651597  1.095792  1.038670  1.143803\n",
       "13420  0.848529 -0.457279  0.245713  1.024525  0.925812  0.904283\n",
       "20407  1.481053 -0.596928 -0.651597  1.514489  1.411971  1.355144\n",
       "8909   0.216004 -0.038334 -0.202942  0.392025  0.413609  0.397064"
      ]
     },
     "execution_count": 67,
     "metadata": {},
     "output_type": "execute_result"
    }
   ],
   "source": [
    "x_test_no.head()"
   ]
  },
  {
   "cell_type": "code",
   "execution_count": 68,
   "id": "272a9f5e",
   "metadata": {},
   "outputs": [
    {
     "data": {
      "text/html": [
       "<div>\n",
       "<style scoped>\n",
       "    .dataframe tbody tr th:only-of-type {\n",
       "        vertical-align: middle;\n",
       "    }\n",
       "\n",
       "    .dataframe tbody tr th {\n",
       "        vertical-align: top;\n",
       "    }\n",
       "\n",
       "    .dataframe thead th {\n",
       "        text-align: right;\n",
       "    }\n",
       "</style>\n",
       "<table border=\"1\" class=\"dataframe\">\n",
       "  <thead>\n",
       "    <tr style=\"text-align: right;\">\n",
       "      <th></th>\n",
       "      <th>cut</th>\n",
       "      <th>color</th>\n",
       "      <th>clarity</th>\n",
       "      <th>carat</th>\n",
       "      <th>depth</th>\n",
       "      <th>table</th>\n",
       "      <th>x</th>\n",
       "      <th>y</th>\n",
       "      <th>z</th>\n",
       "    </tr>\n",
       "  </thead>\n",
       "  <tbody>\n",
       "    <tr>\n",
       "      <th>10176</th>\n",
       "      <td>2.0</td>\n",
       "      <td>4.0</td>\n",
       "      <td>3.0</td>\n",
       "      <td>0.637687</td>\n",
       "      <td>0.171139</td>\n",
       "      <td>-1.100252</td>\n",
       "      <td>0.783997</td>\n",
       "      <td>0.795591</td>\n",
       "      <td>0.805657</td>\n",
       "    </tr>\n",
       "    <tr>\n",
       "      <th>16083</th>\n",
       "      <td>2.0</td>\n",
       "      <td>4.0</td>\n",
       "      <td>2.0</td>\n",
       "      <td>1.038286</td>\n",
       "      <td>0.590084</td>\n",
       "      <td>-0.651597</td>\n",
       "      <td>1.095792</td>\n",
       "      <td>1.038670</td>\n",
       "      <td>1.143803</td>\n",
       "    </tr>\n",
       "    <tr>\n",
       "      <th>13420</th>\n",
       "      <td>3.0</td>\n",
       "      <td>5.0</td>\n",
       "      <td>2.0</td>\n",
       "      <td>0.848529</td>\n",
       "      <td>-0.457279</td>\n",
       "      <td>0.245713</td>\n",
       "      <td>1.024525</td>\n",
       "      <td>0.925812</td>\n",
       "      <td>0.904283</td>\n",
       "    </tr>\n",
       "    <tr>\n",
       "      <th>20407</th>\n",
       "      <td>2.0</td>\n",
       "      <td>2.0</td>\n",
       "      <td>2.0</td>\n",
       "      <td>1.481053</td>\n",
       "      <td>-0.596928</td>\n",
       "      <td>-0.651597</td>\n",
       "      <td>1.514489</td>\n",
       "      <td>1.411971</td>\n",
       "      <td>1.355144</td>\n",
       "    </tr>\n",
       "    <tr>\n",
       "      <th>8909</th>\n",
       "      <td>4.0</td>\n",
       "      <td>2.0</td>\n",
       "      <td>5.0</td>\n",
       "      <td>0.216004</td>\n",
       "      <td>-0.038334</td>\n",
       "      <td>-0.202942</td>\n",
       "      <td>0.392025</td>\n",
       "      <td>0.413609</td>\n",
       "      <td>0.397064</td>\n",
       "    </tr>\n",
       "  </tbody>\n",
       "</table>\n",
       "</div>"
      ],
      "text/plain": [
       "       cut  color  clarity     carat     depth     table         x         y  \\\n",
       "10176  2.0    4.0      3.0  0.637687  0.171139 -1.100252  0.783997  0.795591   \n",
       "16083  2.0    4.0      2.0  1.038286  0.590084 -0.651597  1.095792  1.038670   \n",
       "13420  3.0    5.0      2.0  0.848529 -0.457279  0.245713  1.024525  0.925812   \n",
       "20407  2.0    2.0      2.0  1.481053 -0.596928 -0.651597  1.514489  1.411971   \n",
       "8909   4.0    2.0      5.0  0.216004 -0.038334 -0.202942  0.392025  0.413609   \n",
       "\n",
       "              z  \n",
       "10176  0.805657  \n",
       "16083  1.143803  \n",
       "13420  0.904283  \n",
       "20407  1.355144  \n",
       "8909   0.397064  "
      ]
     },
     "execution_count": 68,
     "metadata": {},
     "output_type": "execute_result"
    }
   ],
   "source": [
    "x_test_rescaled = pd.concat([x_test_catg, x_test_no], axis=1)\n",
    "x_test_rescaled.head()"
   ]
  },
  {
   "cell_type": "code",
   "execution_count": 69,
   "id": "8ffd583f",
   "metadata": {},
   "outputs": [],
   "source": [
    "# Introduction to Experiment Tracking"
   ]
  },
  {
   "cell_type": "code",
   "execution_count": 70,
   "id": "6917f177",
   "metadata": {},
   "outputs": [],
   "source": [
    "# explanation will be available in the mlops text"
   ]
  },
  {
   "cell_type": "code",
   "execution_count": 71,
   "id": "961caf9c",
   "metadata": {},
   "outputs": [],
   "source": [
    "# KNN REGRESSOR "
   ]
  },
  {
   "cell_type": "code",
   "execution_count": 72,
   "id": "ec575d28",
   "metadata": {},
   "outputs": [],
   "source": [
    "#RUNNING THE EXPERIMENT"
   ]
  },
  {
   "cell_type": "code",
   "execution_count": 73,
   "id": "266593cb",
   "metadata": {},
   "outputs": [],
   "source": [
    "import mlflow"
   ]
  },
  {
   "cell_type": "code",
   "execution_count": 74,
   "id": "d17586ce",
   "metadata": {},
   "outputs": [
    {
     "data": {
      "text/plain": [
       "<Experiment: artifact_location='./mlruns/4', creation_time=1664339071108, experiment_id='4', last_update_time=1664339071108, lifecycle_stage='active', name='Diamond Price Predictions', tags={}>"
      ]
     },
     "execution_count": 74,
     "metadata": {},
     "output_type": "execute_result"
    }
   ],
   "source": [
    "mlflow.set_tracking_uri(\"sqlite:///mlflow.db\")\n",
    "mlflow.set_experiment(\"Diamond Price Predictions\")"
   ]
  },
  {
   "cell_type": "code",
   "execution_count": 75,
   "id": "6cd22515",
   "metadata": {},
   "outputs": [],
   "source": [
    "from sklearn.neighbors import KNeighborsClassifier\n",
    "from sklearn.tree import DecisionTreeClassifier\n",
    "from sklearn.svm import SVC\n",
    "from sklearn import metrics\n",
    "from sklearn.linear_model import LinearRegression\n",
    "from sklearn.naive_bayes import GaussianNB"
   ]
  },
  {
   "cell_type": "code",
   "execution_count": 76,
   "id": "e12c6d8d",
   "metadata": {},
   "outputs": [],
   "source": [
    "from pickle import dump\n",
    "dump(scaler, open('standard_scaler.pkl', 'wb'))"
   ]
  },
  {
   "cell_type": "code",
   "execution_count": 77,
   "id": "d42e6511",
   "metadata": {},
   "outputs": [],
   "source": [
    "# TRAINING KNN  EXP - 1"
   ]
  },
  {
   "cell_type": "code",
   "execution_count": 78,
   "id": "628527f0",
   "metadata": {},
   "outputs": [],
   "source": [
    "with mlflow.start_run():\n",
    "    mlflow.set_tag(\"dev\",\"Sai\")\n",
    "    mlflow.set_tag(\"algo\",\"KNN\")\n",
    "    # LOG THE DATA FOR EACH RUN USING log_param, log_metric, log_model \n",
    "    mlflow.log_param(\"data-path\", \"data/diamonds.csv\")\n",
    "    k = 9\n",
    "    mlflow.log_param(\"n_neighbors\",k)\n",
    "    knn_classifier = KNeighborsClassifier(n_neighbors=k)\n",
    "    knn_classifier.fit(x_train_rescaled, y_train)\n",
    "    y_test_pred = knn_classifier.predict(x_test_rescaled)\n",
    "    acc = metrics.accuracy_score(y_test, y_test_pred)\n",
    "    mlflow.log_metric(\"accuracy\", acc)\n",
    "    mlflow.sklearn.log_model(knn_classifier, artifact_path =\"models\")\n",
    "    mlflow.log_artifact(\"standard_scaler.pkl\")"
   ]
  },
  {
   "cell_type": "code",
   "execution_count": null,
   "id": "66cd2a6d",
   "metadata": {},
   "outputs": [],
   "source": [
    "# TRAINING LINEAR REGRESSION EXP -2"
   ]
  },
  {
   "cell_type": "code",
   "execution_count": null,
   "id": "232d8143",
   "metadata": {},
   "outputs": [],
   "source": [
    "with mlflow.start_run():\n",
    "    mlflow.set_tag(\"dev\", \"Sai\")\n",
    "    mlflow.set_tag(\"algo\", \"Linear Regression\")\n",
    "    # LOG THE DATA FOR EACH RUN USING log_param, log_metric, log_model\n",
    "    mlflow.log_param(\"data-path\", \"data/diamonds.csv\")\n",
    "    linear_regressor = LinearRegression()\n",
    "    linear_regressor.fit(x_train_rescaled, y_train)\n",
    "    y_test_pred = linear_regressor.predict(x_test_rescaled)\n",
    "    acc = metrics.r2_score(y_test, y_test_pred)\n",
    "    #rmse = np.sqrt(metrics.mean_squared_error(y_test, y_test_pred))\n",
    "    mlflow.log_metric(\"accuracy\", acc)\n",
    "    #mlflow.log_metric(\"RMSE\", rmse)\n",
    "    mlflow.sklearn.log_model(linear_regressor, artifact_path = \"models\")\n",
    "    mlflow.log_artifact(\"standard_scaler.pkl\")"
   ]
  },
  {
   "cell_type": "code",
   "execution_count": null,
   "id": "f4a417fc",
   "metadata": {},
   "outputs": [],
   "source": [
    "# TRAINING DECISION TREE EXP -3"
   ]
  },
  {
   "cell_type": "code",
   "execution_count": null,
   "id": "9df9b43f",
   "metadata": {},
   "outputs": [],
   "source": [
    "with mlflow.start_run():\n",
    "    mlflow.set_tag(\"dev\",\"Sai\")\n",
    "    mlflow.set_tag(\"algo\", \"DT\")\n",
    "    #LOG THE DATA FOR EACH RUN USING log_param, log_metric, log_model\n",
    "    mlflow.log_param(\"data-path\", \"data/diamonds.csv\")\n",
    "    depth = 3\n",
    "    mlflow.log_param(\"max_depth\", depth)\n",
    "    dt_classifier = DecisionTreeClassifier(max_depth = depth)\n",
    "    dt_classifier.fit(x_train_rescaled, y_train)\n",
    "    y_test_pred = dt_classifier.predict(x_test_rescaled)\n",
    "    acc = metrics.accuracy_score(y_test, y_test_pred)\n",
    "    mlflow.log_metric(\"accuracy\", acc)\n",
    "    mlflow.sklearn.log_model(dt_classifier, artifact_path = \"models\")\n",
    "    mlflow.log_artifact(\"standard_scaler.pkl\")"
   ]
  },
  {
   "cell_type": "code",
   "execution_count": null,
   "id": "b1d39b9b",
   "metadata": {},
   "outputs": [],
   "source": [
    "# TRAINING THE *NAIVE BAYES*  EXP -5"
   ]
  },
  {
   "cell_type": "code",
   "execution_count": null,
   "id": "9c52e134",
   "metadata": {},
   "outputs": [],
   "source": [
    "with mlflow.start_run():\n",
    "    mlflow.set_tag(\"dev\", \"Sai\")\n",
    "    mlflow.set_tag(\"algo\",\"GaussianNB\")\n",
    "    # LOG THE DATA FOR EACH RUN USING log_param, log_metric, log_model\n",
    "    mlflow.log_param(\"data-path\", \"diamond.csv\")\n",
    "\n",
    "    nb_classifier = GaussianNB()\n",
    "    nb_classifier.fit(x_train_rescaled, y_train)\n",
    "    y_test_pred = nb_classifier.predict(x_test_rescaled)\n",
    "    acc = metrics.accuracy_score(y_test, y_test_pred)\n",
    "    mlflow.log_metric(\"accuracy\", acc)\n",
    "    mlflow.sklearn.log_model(nb_classifier, artifact_path =\"models\")\n",
    "    mlflow.log_artifact(\"standard_scaler.pkl\")"
   ]
  },
  {
   "cell_type": "code",
   "execution_count": null,
   "id": "358cb132",
   "metadata": {},
   "outputs": [],
   "source": [
    "## TRAINING SUPPORT VECTOR CLASSIFIER EXP -4 ##"
   ]
  },
  {
   "cell_type": "code",
   "execution_count": null,
   "id": "051b6a90",
   "metadata": {},
   "outputs": [],
   "source": [
    "with mlflow.start_run():\n",
    "    mlflow.set_tag(\"dev\",\"Sai\")\n",
    "    mlflow.set_tag(\"algo\",\"SVC\")\n",
    "    #LOG THE DATA FOR EACH RUN USING log_param, log_metric, log_model\n",
    "    mlflow.log_param(\"data-path\", \"data/diamonds.csv\")\n",
    "    C = 0.1\n",
    "    mlflow.log_param(\"C\", C)\n",
    "    sv_classifier = SVC(C = C)\n",
    "    sv_classifier.fit(x_train_rescaled, y_train)\n",
    "    y_test_pred = sv_classifier.predict(x_test_rescaled)\n",
    "    acc = metrics.accuracy_score(y_test, y_test_pred)\n",
    "    mlflow.log_metric(\"accuracy\", acc)\n",
    "    mlflow.sklearn.log_model(sv_classifier, artifact_path = \"models\")\n",
    "    mlflow.log_artifact(\"standard_scaler.pkl\")"
   ]
  },
  {
   "cell_type": "code",
   "execution_count": null,
   "id": "f21f92be",
   "metadata": {},
   "outputs": [],
   "source": [
    "from sklearn.model_selection import GridSearchCV\n",
    "    "
   ]
  },
  {
   "cell_type": "code",
   "execution_count": null,
   "id": "a192e67e",
   "metadata": {},
   "outputs": [],
   "source": [
    " #enabling automatic Mlflowlogging for scikit-learn runs\n",
    "mlflow.sklearn.autolog(max_tuning_runs=None)\n",
    "\n",
    "with mlflow.start_run():\n",
    "    tuned_parameters = [{'n_neighbors':[i for i in range(1, 51)], 'p':[1,2]}]\n",
    "    \n",
    "    clf = GridSearchCV(\n",
    "         estimator=KNeighborsClassifier(),\n",
    "        param_grid= tuned_parameters,\n",
    "        scoring='accuracy',\n",
    "        cv=5,\n",
    "        return_train_score=True,\n",
    "        verbose=1\n",
    "    )\n",
    "    clf.fit(x_train, y_train)\n",
    "    \n",
    "    mlflow.sklearn.autolog(disable=True)"
   ]
  },
  {
   "cell_type": "code",
   "execution_count": null,
   "id": "b33c7652",
   "metadata": {},
   "outputs": [],
   "source": []
  },
  {
   "cell_type": "code",
   "execution_count": null,
   "id": "c4f17a17",
   "metadata": {},
   "outputs": [],
   "source": []
  },
  {
   "cell_type": "code",
   "execution_count": null,
   "id": "bf6ed27a",
   "metadata": {},
   "outputs": [],
   "source": []
  },
  {
   "cell_type": "code",
   "execution_count": null,
   "id": "0a6f6737",
   "metadata": {},
   "outputs": [],
   "source": []
  }
 ],
 "metadata": {
  "kernelspec": {
   "display_name": "Python 3.10.6 64-bit",
   "language": "python",
   "name": "python3"
  },
  "language_info": {
   "codemirror_mode": {
    "name": "ipython",
    "version": 3
   },
   "file_extension": ".py",
   "mimetype": "text/x-python",
   "name": "python",
   "nbconvert_exporter": "python",
   "pygments_lexer": "ipython3",
   "version": "3.10.6"
  },
  "vscode": {
   "interpreter": {
    "hash": "369f2c481f4da34e4445cda3fffd2e751bd1c4d706f27375911949ba6bb62e1c"
   }
  }
 },
 "nbformat": 4,
 "nbformat_minor": 5
}
